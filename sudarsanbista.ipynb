{
 "cells": [
  {
   "cell_type": "markdown",
   "metadata": {
    "id": "lkma_RaEXEuA"
   },
   "source": [
    "1.task 1 , 2 and 3:"
   ]
  },
  {
   "cell_type": "code",
   "execution_count": 1,
   "metadata": {
    "id": "dZ3uTXy-XEuC",
    "outputId": "68ae6507-1772-4fd3-f008-bae12b113c4c"
   },
   "outputs": [
    {
     "name": "stdout",
     "output_type": "stream",
     "text": [
      "------------------------- Task 1: Classification -------------------------\n",
      "Cold temperatures: [8.2, 7.9, 9.0, 8.5, 7.7, 8.4, 9.5, 8.1, 7.6, 8.0, 7.8, 8.7, 9.2, 8.3, 8.9, 7.8]\n",
      "Mild temperatures: [14.1, 13.5, 13.0, 12.9, 13.3, 14.0, 13.4, 14.2, 12.8, 13.7, 13.6, 13.8, 13.9, 12.7, 13.1, 12.5]\n",
      "Comfortable temperatures: [17.4, 18.0, 17.8, 16.5, 17.2, 16.7, 18.3, 17.9, 17.0, 16.8, 17.5, 17.1, 18.1, 16.4, 18.2, 16.6]\n",
      "------------------------- Task 2: Counts -------------------------\n",
      "Number of cold days: 16\n",
      "Number of mild days: 16\n",
      "Number of comfortable days: 16\n",
      "------------------------- Task 3: Conversion -------------------------\n",
      "Temperatures in Fahrenheit: [46.76, 63.32, 57.38, 46.22, 64.4, 56.3, 48.2, 64.04, 55.4, 47.3, 61.7, 55.22, 45.86, 62.96, 55.94, 47.12, 62.06, 57.2, 49.1, 64.94, 56.12, 46.58, 64.22, 57.56, 45.68, 62.6, 55.04, 46.4, 62.24, 56.66, 46.04, 63.5, 56.48, 47.66, 62.78, 56.84, 48.56, 64.58, 57.02, 46.94, 61.52, 54.86, 48.02, 64.76, 55.58, 46.04, 61.88, 54.5]\n"
     ]
    }
   ],
   "source": [
    "temperatures = [8.2, 17.4, 14.1, 7.9, 18.0, 13.5, 9.0, 17.8, 13.0, 8.5,\n",
    "                16.5, 12.9, 7.7, 17.2, 13.3, 8.4, 16.7, 14.0, 9.5, 18.3,\n",
    "                13.4, 8.1, 17.9, 14.2, 7.6, 17.0, 12.8, 8.0, 16.8, 13.7,\n",
    "                7.8, 17.5, 13.6, 8.7, 17.1, 13.8, 9.2, 18.1, 13.9, 8.3,\n",
    "                16.4, 12.7, 8.9, 18.2, 13.1, 7.8, 16.6, 12.5]\n",
    "\n",
    "cold = []\n",
    "mild = []\n",
    "comfortable = []\n",
    "fahrenheit = []\n",
    "\n",
    "def classify_temperatures():\n",
    "    \"\"\"Classify temperatures into cold, mild, and comfortable categories based on their values.\"\"\"\n",
    "    for temp in temperatures:\n",
    "        if temp < 10:\n",
    "            cold.append(temp)\n",
    "        elif 10 <= temp <= 15:\n",
    "            mild.append(temp)\n",
    "        else:\n",
    "            comfortable.append(temp)\n",
    "\n",
    "    print(\"Cold temperatures:\", cold)\n",
    "    print(\"Mild temperatures:\", mild)\n",
    "    print(\"Comfortable temperatures:\", comfortable)\n",
    "\n",
    "def display_category_counts():\n",
    "    \"\"\"Display the count of temperatures in each category.\"\"\"\n",
    "    print(f\"Number of cold days: {len(cold)}\")\n",
    "    print(f\"Number of mild days: {len(mild)}\")\n",
    "    print(f\"Number of comfortable days: {len(comfortable)}\")\n",
    "\n",
    "def convert_to_fahrenheit():\n",
    "    \"\"\"Convert the list of temperatures from Celsius to Fahrenheit.\"\"\"\n",
    "    for temp in temperatures:\n",
    "        converted_temp = (temp * 9/5) + 32\n",
    "        fahrenheit.append(round(converted_temp, 2))\n",
    "    print(\"Temperatures in Fahrenheit:\", fahrenheit)\n",
    "\n",
    "print(\"------------------------- Task 1: Classification -------------------------\")\n",
    "classify_temperatures()\n",
    "\n",
    "print(\"------------------------- Task 2: Counts -------------------------\")\n",
    "display_category_counts()\n",
    "\n",
    "print(\"------------------------- Task 3: Conversion -------------------------\")\n",
    "convert_to_fahrenheit()\n"
   ]
  },
  {
   "cell_type": "markdown",
   "metadata": {
    "id": "C9yblP7SXEuD"
   },
   "source": [
    "1.task4:"
   ]
  },
  {
   "cell_type": "code",
   "execution_count": null,
   "metadata": {
    "colab": {
     "base_uri": "https://localhost:8080/",
     "height": 633
    },
    "id": "2R3fEM80XEuD",
    "outputId": "27fa206a-1bbe-4d42-c68c-d82c83619a8b"
   },
   "outputs": [
    {
     "name": "stdout",
     "output_type": "stream",
     "text": [
      "Day temperatures: [13.0, 8.5, 16.5, 12.9, 7.7, 17.2, 13.3, 8.4, 13.6, 8.7, 17.1, 13.8, 9.2, 18.1, 13.9, 8.3]\n",
      "Night temperatures: [8.2, 17.4, 14.1, 7.9, 18.0, 13.5, 9.0, 17.8, 7.6, 17.0, 12.8, 8.0, 16.8, 13.7, 7.8, 17.5]\n",
      "Evening temperatures: [16.7, 14.0, 9.5, 18.3, 13.4, 8.1, 17.9, 14.2, 16.4, 12.7, 8.9, 18.2, 13.1, 7.8, 16.6, 12.5]\n",
      "The average temperature during the day is: 12.51°C\n"
     ]
    }
   ],
   "source": [
    "import matplotlib.pyplot as plt\n",
    "\n",
    "\n",
    "temperatures = [8.2, 17.4, 14.1, 7.9, 18.0, 13.5, 9.0, 17.8, 13.0, 8.5,\n",
    "                16.5, 12.9, 7.7, 17.2, 13.3, 8.4, 16.7, 14.0, 9.5, 18.3,\n",
    "                13.4, 8.1, 17.9, 14.2, 7.6, 17.0, 12.8, 8.0, 16.8, 13.7,\n",
    "                7.8, 17.5, 13.6, 8.7, 17.1, 13.8, 9.2, 18.1, 13.9, 8.3,\n",
    "                16.4, 12.7, 8.9, 18.2, 13.1, 7.8, 16.6, 12.5]\n",
    "\n",
    "night = []\n",
    "evening = []\n",
    "day = []\n",
    "\n",
    "def categorize_temperatures():\n",
    "    \"\"\"\n",
    "    Assign temperatures to 'night', 'day', and 'evening' lists based on their position in the dataset.\n",
    "    \"\"\"\n",
    "    for i, temp in enumerate(temperatures):\n",
    "        if i % 24 < 8:\n",
    "            night.append(temp)\n",
    "        elif i % 24 < 16:\n",
    "            day.append(temp)\n",
    "        else:\n",
    "            evening.append(temp)\n",
    "\n",
    "    print(\"Day temperatures:\", day)\n",
    "    print(\"Night temperatures:\", night)\n",
    "    print(\"Evening temperatures:\", evening)\n",
    "\n",
    "def calculate_average_day_temperature():\n",
    "    \"\"\"\n",
    "    Calculate and display the average temperature during the day.\n",
    "    \"\"\"\n",
    "    average = sum(day) / len(day)\n",
    "    print(f\"The average temperature during the day is: {average:.2f}°C\")\n",
    "\n",
    "def plot_day_temperatures():\n",
    "    \"\"\"\n",
    "    Plot the day temperatures over time with a line graph.\n",
    "    \"\"\"\n",
    "    plt.figure(figsize=(10, 6))\n",
    "    days = range(1, len(day) + 1)  # X-axis: Day numbers\n",
    "    plt.plot(days, day, marker='o', label='Day Temperature', color='blue')\n",
    "    plt.title(\"Day Temperatures Over Time\")\n",
    "    plt.xlabel(\"Day\")\n",
    "    plt.ylabel(\"Temperature (°C)\")\n",
    "    plt.grid(True, linestyle='--', alpha=0.7)\n",
    "    plt.legend()\n",
    "    plt.show()\n",
    "\n",
    "\n",
    "categorize_temperatures()\n",
    "calculate_average_day_temperature()\n",
    "plot_day_temperatures()\n"
   ]
  },
  {
   "cell_type": "markdown",
   "metadata": {
    "id": "8gbSn9M3XEuD"
   },
   "source": [
    "recursion\n",
    "task1"
   ]
  },
  {
   "cell_type": "code",
   "execution_count": 2,
   "metadata": {
    "colab": {
     "base_uri": "https://localhost:8080/"
    },
    "id": "dLLqE4dXXEuD",
    "outputId": "bc4cfeb0-1209-4785-dd02-5d3f0345a7d9"
   },
   "outputs": [
    {
     "data": {
      "text/plain": [
       "36"
      ]
     },
     "execution_count": 2,
     "metadata": {},
     "output_type": "execute_result"
    }
   ],
   "source": [
    "nested_list = [1, [2, [3, 4], 5], 6, [7, 8]]\n",
    "\n",
    "def sum_nested_list(nested_list):\n",
    "    \"\"\"\n",
    "    Calculate the sum of all numbers in a nested list.\n",
    "    This function takes a list that may contain integers and other nested lists.\n",
    "    It recursively traverses the list and sums all the integers, no matter how deeply\n",
    "    nested they are.\n",
    "    Args:\n",
    "    nested_list (list): A list that may contain integers or other lists of integers.\n",
    "    Returns:\n",
    "\n",
    "    18\n",
    "\n",
    "    5CS037 Worksheet - 0 Siman Giri\n",
    "\n",
    "    int: The total sum of all integers in the nested list, including those in sublists\n",
    "    .\n",
    "    Example:\n",
    "    >>> sum_nested_list([1, [2, [3, 4], 5], 6, [7, 8]])\n",
    "    36\n",
    "    >>> sum_nested_list([1, [2, 3], [4, [5]]])\n",
    "    15\n",
    "    \"\"\"\n",
    "    total = 0\n",
    "    for element in nested_list:\n",
    "        if isinstance(element, list): # Check if the element is a list\n",
    "            total += sum_nested_list(element) # Recursively sum the nested list\n",
    "        else:\n",
    "            total += element # Add the number to the total\n",
    "    return total\n",
    "\n",
    "\n",
    "sum_nested_list(nested_list)"
   ]
  },
  {
   "cell_type": "markdown",
   "metadata": {
    "id": "JgIlKZIVXEuE"
   },
   "source": [
    "2.task 2"
   ]
  },
  {
   "cell_type": "code",
   "execution_count": 10,
   "metadata": {
    "colab": {
     "base_uri": "https://localhost:8080/"
    },
    "id": "c4uGEJ39YL6h",
    "outputId": "5395624e-5ae8-47bc-e251-056a3857e1d5"
   },
   "outputs": [
    {
     "name": "stdout",
     "output_type": "stream",
     "text": [
      "['bac', 'acb', 'cab', 'abc', 'bca', 'cba']\n"
     ]
    }
   ],
   "source": [
    "def generate_permutations(s):\n",
    "    \"\"\"function to Takes a string s as input and returns a list of all unique permutations. \"\"\"\n",
    "    if len(s) <= 1:\n",
    "        return [s]\n",
    "\n",
    "    permutations = []\n",
    "    for i, char in enumerate(s):\n",
    "        rest = s[:i] + s[i+1:]\n",
    "        for perm in generate_permutations(rest):\n",
    "            permutations.append(char + perm)\n",
    "\n",
    "\n",
    "    return list(set(permutations))\n",
    "\n",
    "print(generate_permutations(\"abc\"))"
   ]
  },
  {
   "cell_type": "markdown",
   "metadata": {
    "id": "HCnUNSrZauxI"
   },
   "source": [
    "2.task3"
   ]
  },
  {
   "cell_type": "code",
   "execution_count": 6,
   "metadata": {
    "colab": {
     "base_uri": "https://localhost:8080/"
    },
    "id": "yVmil4jtatSW",
    "outputId": "6dc325b7-71c3-40ea-fc4f-25e74b75bc21"
   },
   "outputs": [
    {
     "name": "stdout",
     "output_type": "stream",
     "text": [
      "total directory size : 1400\n"
     ]
    }
   ],
   "source": [
    "directory_structure = {\n",
    "\"file1.txt\": 200,\n",
    "\"file2.txt\": 300,\n",
    "\"subdir1\": {\n",
    "\"file3.txt\": 400,\n",
    "\"file4.txt\": 100\n",
    "},\n",
    "\"subdir2\": {\n",
    "\"subsubdir1\": {\n",
    "\"file5.txt\": 250\n",
    "},\n",
    "\"file6.txt\": 150\n",
    "}\n",
    "}\n",
    "\n",
    "def calculate_directory_size(directory):\n",
    "    \"\"\"Return the total size of the directory.\"\"\"\n",
    "    total_size = 0\n",
    "\n",
    "    for name, value in directory.items():\n",
    "        if isinstance(value, dict):\n",
    "            total_size += calculate_directory_size(value)\n",
    "        else:\n",
    "            total_size += value\n",
    "\n",
    "    return total_size\n",
    "total_size= calculate_directory_size(directory_structure)\n",
    "print(f\"total directory size : {total_size}\")"
   ]
  },
  {
   "cell_type": "markdown",
   "metadata": {
    "id": "a8dKj9V6eVEu"
   },
   "source": [
    "3.task1"
   ]
  },
  {
   "cell_type": "code",
   "execution_count": 17,
   "metadata": {
    "colab": {
     "base_uri": "https://localhost:8080/"
    },
    "id": "VXbWW9jueWfL",
    "outputId": "e835a1b0-7476-4576-86f3-a943b0942347"
   },
   "outputs": [
    {
     "name": "stdout",
     "output_type": "stream",
     "text": [
      "Minimum coins required to make 11 using coins [1, 2, 5]: 3\n"
     ]
    }
   ],
   "source": [
    "def min_coins(coins, amount):\n",
    "    \"\"\"\n",
    "     Finds the minimum number of coins needed to make up a given amount using dynamic\n",
    "  programming.\n",
    "  This function solves the coin change problem by determining the fewest number of\n",
    "  coins from a given set of coin denominations that sum up to a target amount. The\n",
    "  solution uses dynamic programming(tabulation) to iteratively build up the minimum\n",
    "  number of coins required for each amount.\n",
    "  Parameters:\n",
    "  coins (list of int): A list of coin denominations available for making change. Each\n",
    "  coin denomination is a positive integer.\n",
    "  amount (int): The target amount for which we need to find the minimum number of coins\n",
    "  . It must be a non-negative integer.\n",
    "  Returns:\n",
    "  int: The minimum number of coins required to make the given amount.\n",
    "  If it is not possible to make the amount with the given coins, returns -1.\n",
    "  Example:\n",
    "  >>> min_coins([1, 2, 5], 11)\n",
    "  3\n",
    "  >>> min_coins([2], 3)\n",
    "  -1\n",
    "    \"\"\"\n",
    "    dp = [float('inf')] * (amount + 1)\n",
    "    dp[0] = 0\n",
    "    for coin in coins:\n",
    "        for i in range(coin, amount + 1):\n",
    "            dp[i] = min(dp[i], dp[i - coin] + 1)\n",
    "    return dp[amount] if dp[amount] != float('inf') else -1\n",
    "\n",
    "# Test with the given example\n",
    "coins = [1, 2, 5]\n",
    "amount = 11\n",
    "result = min_coins(coins, amount)\n",
    "print(f\"Minimum coins required to make {amount} using coins {coins}: {result}\")\n"
   ]
  },
  {
   "cell_type": "markdown",
   "metadata": {
    "id": "8-_vfCU0cj-Y"
   },
   "source": [
    "3.task 2"
   ]
  },
  {
   "cell_type": "code",
   "execution_count": 13,
   "metadata": {
    "colab": {
     "base_uri": "https://localhost:8080/"
    },
    "id": "9N2uG_9YcjMY",
    "outputId": "059f84da-29fe-4366-e408-439161907a05"
   },
   "outputs": [
    {
     "name": "stdout",
     "output_type": "stream",
     "text": [
      "Length of LCS for 'abcde' and 'ace': 3\n"
     ]
    }
   ],
   "source": [
    "def longest_common_subsequence(s1, s2):\n",
    "    \"\"\"function to uses DP to find the length of the LCS of two strings s1 and s2.\"\"\"\n",
    "    n, m = len(s1), len(s2)\n",
    "    dp = [[0] * (m + 1) for _ in range(n + 1)]\n",
    "    for i in range(1, n + 1):\n",
    "        for j in range(1, m + 1):\n",
    "            if s1[i - 1] == s2[j - 1]:\n",
    "                dp[i][j] = dp[i - 1][j - 1] + 1\n",
    "            else:\n",
    "                dp[i][j] = max(dp[i - 1][j], dp[i][j - 1])\n",
    "\n",
    "    return dp[n][m]\n",
    "\n",
    "s1 = \"abcde\"\n",
    "s2 = \"ace\"\n",
    "result = longest_common_subsequence(s1, s2)\n",
    "print(f\"Length of LCS for '{s1}' and '{s2}': {result}\")"
   ]
  },
  {
   "cell_type": "markdown",
   "metadata": {
    "id": "1jwOs37cds1c"
   },
   "source": [
    "3.task 3"
   ]
  },
  {
   "cell_type": "code",
   "execution_count": 14,
   "metadata": {
    "colab": {
     "base_uri": "https://localhost:8080/"
    },
    "id": "JiYD0vqydvGz",
    "outputId": "49f72f75-1051-4554-f6de-e6f476923cd0"
   },
   "outputs": [
    {
     "name": "stdout",
     "output_type": "stream",
     "text": [
      "Maximum value for weights [1, 3, 4, 5], values [1, 4, 5, 7], and capacity 7: 9\n"
     ]
    }
   ],
   "source": [
    "def knapsack(weights, values, capacity):\n",
    "    \"\"\"function to  Uses DP to determine the maximum value that can be achieved within the given weight capacity.\"\"\"\n",
    "    n = len(weights)\n",
    "    dp = [[0] * (capacity + 1) for _ in range(n + 1)]\n",
    "\n",
    "\n",
    "    for i in range(1, n + 1):\n",
    "        for w in range(capacity + 1):\n",
    "            if weights[i - 1] <= w:\n",
    "                dp[i][w] = max(dp[i - 1][w], values[i - 1] + dp[i - 1][w - weights[i - 1]])\n",
    "            else:\n",
    "                dp[i][w] = dp[i - 1][w]\n",
    "\n",
    "    return dp[n][capacity]\n",
    "\n",
    "\n",
    "weights = [1, 3, 4, 5]\n",
    "values = [1, 4, 5, 7]\n",
    "capacity = 7\n",
    "result = knapsack(weights, values, capacity)\n",
    "print(f\"Maximum value for weights {weights}, values {values}, and capacity {capacity}: {result}\")\n"
   ]
  }
 ],
 "metadata": {
  "colab": {
   "provenance": []
  },
  "kernelspec": {
   "display_name": "Python 3",
   "language": "python",
   "name": "python3"
  },
  "language_info": {
   "codemirror_mode": {
    "name": "ipython",
    "version": 3
   },
   "file_extension": ".py",
   "mimetype": "text/x-python",
   "name": "python",
   "nbconvert_exporter": "python",
   "pygments_lexer": "ipython3",
   "version": "3.11.7"
  }
 },
 "nbformat": 4,
 "nbformat_minor": 0
}
